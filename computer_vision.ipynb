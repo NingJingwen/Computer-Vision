{
  "nbformat": 4,
  "nbformat_minor": 0,
  "metadata": {
    "colab": {
      "name": "computer-vision",
      "provenance": [],
      "collapsed_sections": [],
      "authorship_tag": "ABX9TyN2os3loqSqziQ1svSD7zCf",
      "include_colab_link": true
    },
    "kernelspec": {
      "display_name": "Python 3",
      "name": "python3"
    },
    "accelerator": "TPU"
  },
  "cells": [
    {
      "cell_type": "markdown",
      "metadata": {
        "id": "view-in-github",
        "colab_type": "text"
      },
      "source": [
        "<a href=\"https://colab.research.google.com/github/NingJingwen/Computer-Vision/blob/main/computer_vision.ipynb\" target=\"_parent\"><img src=\"https://colab.research.google.com/assets/colab-badge.svg\" alt=\"Open In Colab\"/></a>"
      ]
    },
    {
      "cell_type": "markdown",
      "metadata": {
        "id": "e6US2QXE1VQf"
      },
      "source": [
        "Image classifier with custom model\n"
      ]
    },
    {
      "cell_type": "code",
      "metadata": {
        "id": "vXyHs5nGAhLO",
        "colab": {
          "base_uri": "https://localhost:8080/"
        },
        "outputId": "76e5bf87-cb47-4a70-c3e4-a6627c14a1b7"
      },
      "source": [
        "from google.colab import drive\n",
        "drive.mount('/content/drive')"
      ],
      "execution_count": null,
      "outputs": [
        {
          "output_type": "stream",
          "text": [
            "Mounted at /content/drive\n"
          ],
          "name": "stdout"
        }
      ]
    },
    {
      "cell_type": "code",
      "metadata": {
        "id": "4eOKSUvW_rnQ",
        "colab": {
          "base_uri": "https://localhost:8080/"
        },
        "outputId": "6d8fb3b9-5b20-4352-8102-64a5a510e823"
      },
      "source": [
        "import os, warnings\n",
        "import matplotlib.pyplot as plt\n",
        "\n",
        "import numpy as np\n",
        "import tensorflow as tf\n",
        "from tensorflow.keras.preprocessing import image_dataset_from_directory \n",
        "\n",
        "# Reproducability\n",
        "def set_seed(seed=31415):\n",
        "    np.random.seed(seed)\n",
        "    tf.random.set_seed(seed)\n",
        "    os.environ['PYTHONHASHSEED'] = str(seed)\n",
        "    os.environ['TF_DETERMINISTIC_OPS'] = '1'\n",
        "set_seed()\n",
        "\n",
        "# Set Matplotlib defaults\n",
        "plt.rc('figure', autolayout=True)\n",
        "plt.rc('axes', labelweight='bold', labelsize='large',\n",
        "       titleweight='bold', titlesize=18, titlepad=10)\n",
        "plt.rc('image', cmap='magma')\n",
        "warnings.filterwarnings(\"ignore\") # to clean up output cells\n",
        "\n",
        "# Load training and validation sets\n",
        "ds_train_ = image_dataset_from_directory(\n",
        "    'drive/MyDrive/car-truck-bumper/train',\n",
        "    labels='inferred',\n",
        "    label_mode='int',\n",
        "    image_size=[128, 128],\n",
        "    interpolation='nearest',\n",
        "    batch_size=64,\n",
        "    shuffle=True,\n",
        " )\n",
        "ds_valid_ = image_dataset_from_directory(\n",
        "    'drive/MyDrive/car-truck-bumper/valid',\n",
        "    labels='inferred',\n",
        "    label_mode='int',\n",
        "    image_size=[128, 128],\n",
        "    interpolation='nearest',\n",
        "    batch_size=64,\n",
        "    shuffle=False,\n",
        ")"
      ],
      "execution_count": null,
      "outputs": [
        {
          "output_type": "stream",
          "text": [
            "Found 2534 files belonging to 3 classes.\n",
            "Found 1826 files belonging to 2 classes.\n"
          ],
          "name": "stdout"
        }
      ]
    },
    {
      "cell_type": "code",
      "metadata": {
        "id": "uEwsV8_1Pcan"
      },
      "source": [
        "# Data Pipeline\n",
        "def convert_to_float(image, label):\n",
        "    image = tf.image.convert_image_dtype(image, dtype=tf.float32)\n",
        "    return image, label\n",
        "\n",
        "\n",
        "AUTOTUNE = tf.data.experimental.AUTOTUNE\n",
        "ds_train = (\n",
        "    ds_train_\n",
        "    .map(convert_to_float)\n",
        "    .cache()\n",
        "    .prefetch(buffer_size=AUTOTUNE)\n",
        ")\n",
        "ds_valid = (\n",
        "    ds_valid_\n",
        "    .map(convert_to_float)\n",
        "    .cache()\n",
        "    .prefetch(buffer_size=AUTOTUNE)\n",
        ")"
      ],
      "execution_count": null,
      "outputs": []
    },
    {
      "cell_type": "code",
      "metadata": {
        "id": "EgMceur6JRGV"
      },
      "source": [
        "import tensorflow.keras as keras\n",
        "import tensorflow.keras.layers as layers\n",
        "import tensorflow.keras.layers.experimental.preprocessing as preprocessing\n",
        "\n",
        "# new-made model\n",
        "def create_model():\n",
        "    model = keras.Sequential([\n",
        "\n",
        "    # First Convolutional Block\n",
        "    layers.Conv2D(filters=32, kernel_size=3, activation=\"relu\", padding='same',\n",
        "                  # give the input dimensions in the first layer\n",
        "                  # [height, width, color channels(RGB)]\n",
        "                  input_shape=[128, 128, 3]),\n",
        "    layers.MaxPool2D(),\n",
        "\n",
        "    # Second Convolutional Block\n",
        "    layers.Conv2D(filters=64, kernel_size=3, activation=\"relu\", padding='same'),\n",
        "    layers.MaxPool2D(),\n",
        "\n",
        "    # Third Convolutional Block\n",
        "    layers.Conv2D(filters=128, kernel_size=3, activation=\"relu\", padding='same'),\n",
        "    layers.Conv2D(filters=128, kernel_size=3, activation=\"relu\", padding='same'),\n",
        "    layers.MaxPool2D(),\n",
        "\n",
        "    # Classifier Head\n",
        "    layers.Flatten(),\n",
        "    layers.Dense(units=6, activation=\"relu\"),\n",
        "    layers.Dropout(0.2),\n",
        "    layers.Dense(units=3, activation=\"softmax\"),\n",
        "    ])\n",
        "    return (model)\n",
        "\n",
        "def compile_model(model):\n",
        "    model.compile(\n",
        "        optimizer=tf.keras.optimizers.Adam(epsilon=0.01),\n",
        "        loss = 'sparse_categorical_crossentropy',\n",
        "        metrics=['sparse_categorical_accuracy'],)\n",
        "    return(model)\n",
        "  "
      ],
      "execution_count": null,
      "outputs": []
    },
    {
      "cell_type": "code",
      "metadata": {
        "id": "VA4wx5wJPpw4"
      },
      "source": [
        "# import os\n",
        "\n",
        "# try:\n",
        "#     tpu = tf.distribute.cluster_resolver.TPUClusterResolver(tpu='grpc://' + os.environ['COLAB_TPU_ADDR']) \n",
        "#     print('Running on TPU ', tpu.master())\n",
        "# except ValueError:\n",
        "#     tpu = None\n",
        "\n",
        "# if tpu:\n",
        "#     tf.config.experimental_connect_to_cluster(tpu)\n",
        "#     tf.tpu.experimental.initialize_tpu_system(tpu)\n",
        "#     strategy = tf.distribute.experimental.TPUStrategy(tpu)\n",
        "# else:\n",
        "#     strategy = tf.distribute.get_strategy() \n",
        "\n",
        "# with strategy.scope():\n",
        "#     model = create_model()\n",
        "#     model = compile_model(model)\n",
        "model=create_model()\n",
        "model=compile_model(model)"
      ],
      "execution_count": null,
      "outputs": []
    },
    {
      "cell_type": "code",
      "metadata": {
        "id": "cf0Vzp66PWzy",
        "colab": {
          "base_uri": "https://localhost:8080/"
        },
        "outputId": "735c35fb-3b28-489b-be91-15f281271568"
      },
      "source": [
        "history = model.fit(\n",
        "    ds_train,\n",
        "    validation_data=ds_valid,\n",
        "    epochs=15,\n",
        ")"
      ],
      "execution_count": null,
      "outputs": [
        {
          "output_type": "stream",
          "text": [
            "Epoch 1/15\n",
            "40/40 [==============================] - 1287s 28s/step - loss: 1.0978 - sparse_categorical_accuracy: 0.4346 - val_loss: 1.0652 - val_sparse_categorical_accuracy: 0.8932\n",
            "Epoch 2/15\n",
            "40/40 [==============================] - 148s 4s/step - loss: 1.0666 - sparse_categorical_accuracy: 0.6085 - val_loss: 0.9789 - val_sparse_categorical_accuracy: 0.8850\n",
            "Epoch 3/15\n",
            "40/40 [==============================] - 148s 4s/step - loss: 0.9981 - sparse_categorical_accuracy: 0.6413 - val_loss: 0.9239 - val_sparse_categorical_accuracy: 0.8954\n",
            "Epoch 4/15\n",
            "40/40 [==============================] - 148s 4s/step - loss: 0.9173 - sparse_categorical_accuracy: 0.7099 - val_loss: 0.9211 - val_sparse_categorical_accuracy: 0.8039\n",
            "Epoch 5/15\n",
            "40/40 [==============================] - 147s 4s/step - loss: 0.8861 - sparse_categorical_accuracy: 0.7336 - val_loss: 0.8170 - val_sparse_categorical_accuracy: 0.9184\n",
            "Epoch 6/15\n",
            "40/40 [==============================] - 148s 4s/step - loss: 0.8578 - sparse_categorical_accuracy: 0.7406 - val_loss: 0.8371 - val_sparse_categorical_accuracy: 0.8308\n",
            "Epoch 7/15\n",
            "40/40 [==============================] - 147s 4s/step - loss: 0.8286 - sparse_categorical_accuracy: 0.7560 - val_loss: 0.7823 - val_sparse_categorical_accuracy: 0.8647\n",
            "Epoch 8/15\n",
            "40/40 [==============================] - 147s 4s/step - loss: 0.8100 - sparse_categorical_accuracy: 0.7591 - val_loss: 0.6850 - val_sparse_categorical_accuracy: 0.9315\n",
            "Epoch 9/15\n",
            "40/40 [==============================] - 147s 4s/step - loss: 0.7753 - sparse_categorical_accuracy: 0.7611 - val_loss: 0.7235 - val_sparse_categorical_accuracy: 0.8735\n",
            "Epoch 10/15\n",
            "40/40 [==============================] - 147s 4s/step - loss: 0.7521 - sparse_categorical_accuracy: 0.7761 - val_loss: 0.6503 - val_sparse_categorical_accuracy: 0.9239\n",
            "Epoch 11/15\n",
            "40/40 [==============================] - 147s 4s/step - loss: 0.7194 - sparse_categorical_accuracy: 0.7888 - val_loss: 0.6245 - val_sparse_categorical_accuracy: 0.9168\n",
            "Epoch 12/15\n",
            "40/40 [==============================] - 148s 4s/step - loss: 0.7032 - sparse_categorical_accuracy: 0.7948 - val_loss: 0.3811 - val_sparse_categorical_accuracy: 0.8478\n",
            "Epoch 13/15\n",
            "40/40 [==============================] - 148s 4s/step - loss: 0.4880 - sparse_categorical_accuracy: 0.7952 - val_loss: 0.2395 - val_sparse_categorical_accuracy: 0.9326\n",
            "Epoch 14/15\n",
            "40/40 [==============================] - 148s 4s/step - loss: 0.4618 - sparse_categorical_accuracy: 0.8020 - val_loss: 0.1965 - val_sparse_categorical_accuracy: 0.9436\n",
            "Epoch 15/15\n",
            "40/40 [==============================] - 148s 4s/step - loss: 0.4012 - sparse_categorical_accuracy: 0.8298 - val_loss: 0.1842 - val_sparse_categorical_accuracy: 0.9562\n"
          ],
          "name": "stdout"
        }
      ]
    },
    {
      "cell_type": "code",
      "metadata": {
        "id": "Jfgv3dBZMoXB",
        "colab": {
          "base_uri": "https://localhost:8080/",
          "height": 577
        },
        "outputId": "beea8712-daf2-43d7-bdb4-1485fd3cbcd2"
      },
      "source": [
        "import pandas as pd\n",
        "history_frame = pd.DataFrame(history.history)\n",
        "history_frame.loc[:, ['loss', 'val_loss']].plot()\n",
        "history_frame.loc[:, ['sparse_categorical_accuracy', 'val_sparse_categorical_accuracy']].plot();"
      ],
      "execution_count": null,
      "outputs": [
        {
          "output_type": "display_data",
          "data": {
            "image/png": "[encoded data removed]",
            "text/plain": [
              "<Figure size 432x288 with 1 Axes>"
            ]
          },
          "metadata": {
            "tags": [],
            "needs_background": "light"
          }
        },
        {
          "output_type": "display_data",
          "data": {
            "image/png": "[encoded data removed]",
            "text/plain": [
              "<Figure size 432x288 with 1 Axes>"
            ]
          },
          "metadata": {
            "tags": [],
            "needs_background": "light"
          }
        }
      ]
    }
  ]
}